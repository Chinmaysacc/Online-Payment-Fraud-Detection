{
 "cells": [
  {
   "cell_type": "code",
   "execution_count": 1,
   "metadata": {},
   "outputs": [],
   "source": [
    "import numpy as np\n",
    "import pandas as pd\n",
    "from sklearn.model_selection import train_test_split\n",
    "from sklearn.linear_model import LogisticRegression\n",
    "from sklearn.metrics import accuracy_score\n",
    "import streamlit as st"
   ]
  },
  {
   "cell_type": "code",
   "execution_count": 2,
   "metadata": {},
   "outputs": [],
   "source": [
    "st.set_page_config(page_title=\"Credit Card Fraud Detection\", layout=\"wide\")"
   ]
  },
  {
   "cell_type": "code",
   "execution_count": 3,
   "metadata": {},
   "outputs": [],
   "source": [
    "@st.cache(allow_output_mutation=True)\n",
    "def load_data(file): \n",
    "    return pd.read_csv(file)"
   ]
  },
  {
   "cell_type": "code",
   "execution_count": 1,
   "metadata": {},
   "outputs": [
    {
     "ename": "NameError",
     "evalue": "name 'pd' is not defined",
     "output_type": "error",
     "traceback": [
      "\u001b[1;31m---------------------------------------------------------------------------\u001b[0m",
      "\u001b[1;31mNameError\u001b[0m                                 Traceback (most recent call last)",
      "Cell \u001b[1;32mIn[1], line 1\u001b[0m\n\u001b[1;32m----> 1\u001b[0m data \u001b[38;5;241m=\u001b[39m \u001b[43mpd\u001b[49m\u001b[38;5;241m.\u001b[39mread_csv(\u001b[38;5;124m'\u001b[39m\u001b[38;5;124mcreditcard.csv\u001b[39m\u001b[38;5;124m'\u001b[39m)\n\u001b[0;32m      2\u001b[0m \u001b[38;5;28;01mdef\u001b[39;00m \u001b[38;5;21mtrain_model\u001b[39m(data):\n\u001b[0;32m      3\u001b[0m     \u001b[38;5;66;03m#Seperate legitimate and fraud\u001b[39;00m\n\u001b[0;32m      4\u001b[0m     legit \u001b[38;5;241m=\u001b[39m data[data\u001b[38;5;241m.\u001b[39mClass\u001b[38;5;241m==\u001b[39m\u001b[38;5;241m0\u001b[39m]\n",
      "\u001b[1;31mNameError\u001b[0m: name 'pd' is not defined"
     ]
    }
   ],
   "source": [
    "data = pd.read_csv('creditcard.csv')\n",
    "def train_model(data):\n",
    "    #Seperate legitimate and fraud\n",
    "    legit = data[data.Class==0]\n",
    "    fraud = data[data.Class==1]\n",
    "    #undersample legit data tobalance the classes\n",
    "    legit_sample = legit.sample(n=len(fraud), random_state=2)\n",
    "    data = pd.concat([legit_sample,fraud],axis=0)\n",
    "    #split data into training and testing\n",
    "    X = data.drop(columns=\"Class\", axis=1)\n",
    "    Y = data[\"Class\"]\n",
    "    X_train, X_test, Y_train, Y_test = train_test_split(X, Y, test_size=0.2, stratify=Y, random_state=2)\n",
    "\n"
   ]
  },
  {
   "cell_type": "code",
   "execution_count": null,
   "metadata": {},
   "outputs": [],
   "source": [
    "#Model Training\n",
    "#Logistic Regression\n",
    "model=LogisticRegression()\n",
    "model.fit(X_train, Y_train)"
   ]
  },
  {
   "cell_type": "code",
   "execution_count": 5,
   "metadata": {},
   "outputs": [
    {
     "ename": "NameError",
     "evalue": "name 'model' is not defined",
     "output_type": "error",
     "traceback": [
      "\u001b[1;31m---------------------------------------------------------------------------\u001b[0m",
      "\u001b[1;31mNameError\u001b[0m                                 Traceback (most recent call last)",
      "Cell \u001b[1;32mIn[5], line 1\u001b[0m\n\u001b[1;32m----> 1\u001b[0m train_acc\u001b[38;5;241m=\u001b[39maccuracy_score(\u001b[43mmodel\u001b[49m\u001b[38;5;241m.\u001b[39mpredict(X_train),Y_train)\n\u001b[0;32m      2\u001b[0m test_acc\u001b[38;5;241m=\u001b[39maccuracy_score(model\u001b[38;5;241m.\u001b[39mpredict(X_train),Y_train)\n",
      "\u001b[1;31mNameError\u001b[0m: name 'model' is not defined"
     ]
    }
   ],
   "source": [
    "train_acc=accuracy_score(model.predict(X_train),Y_train)\n",
    "test_acc=accuracy_score(model.predict(X_train),Y_train)"
   ]
  },
  {
   "cell_type": "markdown",
   "metadata": {},
   "source": [
    " App"
   ]
  },
  {
   "cell_type": "code",
   "execution_count": null,
   "metadata": {},
   "outputs": [],
   "source": [
    "st.title(\"Credit Card Fraud Detection Model\")\n",
    "input_df=st.text_input('Enter All Required Features')\n",
    "input_df_splited=input_df.split(',')\n",
    "\n",
    "submit=st.button(\"Submit\")\n",
    "\n",
    "if submit:\n",
    "    features = np.asarray(input_df_splited,dtype=float64)\n",
    "    prediction = model.predict(features.reshape(1,-1))\n",
    "\n",
    "    if prediction[0] == 0:\n",
    "        st.write(\"Legitimate Transaction\")\n",
    "    else:\n",
    "        st.write(\"Fraud Transaction\")\n"
   ]
  }
 ],
 "metadata": {
  "kernelspec": {
   "display_name": "Python 3 (ipykernel)",
   "language": "python",
   "name": "python3"
  },
  "language_info": {
   "codemirror_mode": {
    "name": "ipython",
    "version": 3
   },
   "file_extension": ".py",
   "mimetype": "text/x-python",
   "name": "python",
   "nbconvert_exporter": "python",
   "pygments_lexer": "ipython3",
   "version": "3.12.3"
  }
 },
 "nbformat": 4,
 "nbformat_minor": 4
}
